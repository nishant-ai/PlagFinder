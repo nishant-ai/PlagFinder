{
 "cells": [
  {
   "cell_type": "code",
   "execution_count": 1,
   "id": "a7b5556b",
   "metadata": {},
   "outputs": [],
   "source": [
    "import pandas as pd\n",
    "import numpy as np"
   ]
  },
  {
   "cell_type": "code",
   "execution_count": 2,
   "id": "e9586819",
   "metadata": {},
   "outputs": [
    {
     "data": {
      "text/html": [
       "<div>\n",
       "<style scoped>\n",
       "    .dataframe tbody tr th:only-of-type {\n",
       "        vertical-align: middle;\n",
       "    }\n",
       "\n",
       "    .dataframe tbody tr th {\n",
       "        vertical-align: top;\n",
       "    }\n",
       "\n",
       "    .dataframe thead th {\n",
       "        text-align: right;\n",
       "    }\n",
       "</style>\n",
       "<table border=\"1\" class=\"dataframe\">\n",
       "  <thead>\n",
       "    <tr style=\"text-align: right;\">\n",
       "      <th></th>\n",
       "      <th>word_mean</th>\n",
       "      <th>word_std</th>\n",
       "      <th>word_max</th>\n",
       "      <th>pair_mean</th>\n",
       "      <th>pair_std</th>\n",
       "      <th>pair_max</th>\n",
       "      <th>trigram_mean</th>\n",
       "      <th>trigram_std</th>\n",
       "      <th>trigram_max</th>\n",
       "      <th>sent_match</th>\n",
       "      <th>plag</th>\n",
       "    </tr>\n",
       "  </thead>\n",
       "  <tbody>\n",
       "    <tr>\n",
       "      <th>0</th>\n",
       "      <td>161.530018</td>\n",
       "      <td>336.693975</td>\n",
       "      <td>2900.0</td>\n",
       "      <td>2.232143</td>\n",
       "      <td>18.188556</td>\n",
       "      <td>200.0</td>\n",
       "      <td>0.000000</td>\n",
       "      <td>0.000000</td>\n",
       "      <td>0.0</td>\n",
       "      <td>11.209377</td>\n",
       "      <td>0</td>\n",
       "    </tr>\n",
       "    <tr>\n",
       "      <th>1</th>\n",
       "      <td>100.000000</td>\n",
       "      <td>0.000000</td>\n",
       "      <td>100.0</td>\n",
       "      <td>100.000000</td>\n",
       "      <td>0.000000</td>\n",
       "      <td>100.0</td>\n",
       "      <td>100.000000</td>\n",
       "      <td>0.000000</td>\n",
       "      <td>100.0</td>\n",
       "      <td>20.120715</td>\n",
       "      <td>1</td>\n",
       "    </tr>\n",
       "    <tr>\n",
       "      <th>2</th>\n",
       "      <td>0.688976</td>\n",
       "      <td>7.169442</td>\n",
       "      <td>100.0</td>\n",
       "      <td>0.000000</td>\n",
       "      <td>0.000000</td>\n",
       "      <td>0.0</td>\n",
       "      <td>0.000000</td>\n",
       "      <td>0.000000</td>\n",
       "      <td>0.0</td>\n",
       "      <td>16.666667</td>\n",
       "      <td>0</td>\n",
       "    </tr>\n",
       "    <tr>\n",
       "      <th>3</th>\n",
       "      <td>100.000000</td>\n",
       "      <td>0.000000</td>\n",
       "      <td>100.0</td>\n",
       "      <td>100.000000</td>\n",
       "      <td>0.000000</td>\n",
       "      <td>100.0</td>\n",
       "      <td>100.000000</td>\n",
       "      <td>0.000000</td>\n",
       "      <td>100.0</td>\n",
       "      <td>19.567382</td>\n",
       "      <td>1</td>\n",
       "    </tr>\n",
       "    <tr>\n",
       "      <th>4</th>\n",
       "      <td>26.950113</td>\n",
       "      <td>77.768352</td>\n",
       "      <td>700.0</td>\n",
       "      <td>0.439560</td>\n",
       "      <td>6.622630</td>\n",
       "      <td>100.0</td>\n",
       "      <td>0.000000</td>\n",
       "      <td>0.000000</td>\n",
       "      <td>0.0</td>\n",
       "      <td>8.765949</td>\n",
       "      <td>0</td>\n",
       "    </tr>\n",
       "    <tr>\n",
       "      <th>...</th>\n",
       "      <td>...</td>\n",
       "      <td>...</td>\n",
       "      <td>...</td>\n",
       "      <td>...</td>\n",
       "      <td>...</td>\n",
       "      <td>...</td>\n",
       "      <td>...</td>\n",
       "      <td>...</td>\n",
       "      <td>...</td>\n",
       "      <td>...</td>\n",
       "      <td>...</td>\n",
       "    </tr>\n",
       "    <tr>\n",
       "      <th>133</th>\n",
       "      <td>101.958779</td>\n",
       "      <td>13.002561</td>\n",
       "      <td>200.0</td>\n",
       "      <td>99.854015</td>\n",
       "      <td>3.820804</td>\n",
       "      <td>100.0</td>\n",
       "      <td>99.731544</td>\n",
       "      <td>5.177794</td>\n",
       "      <td>100.0</td>\n",
       "      <td>16.941537</td>\n",
       "      <td>1</td>\n",
       "    </tr>\n",
       "    <tr>\n",
       "      <th>134</th>\n",
       "      <td>100.000000</td>\n",
       "      <td>0.000000</td>\n",
       "      <td>100.0</td>\n",
       "      <td>100.000000</td>\n",
       "      <td>0.000000</td>\n",
       "      <td>100.0</td>\n",
       "      <td>100.000000</td>\n",
       "      <td>0.000000</td>\n",
       "      <td>100.0</td>\n",
       "      <td>17.295559</td>\n",
       "      <td>1</td>\n",
       "    </tr>\n",
       "    <tr>\n",
       "      <th>135</th>\n",
       "      <td>63.335615</td>\n",
       "      <td>45.480977</td>\n",
       "      <td>200.0</td>\n",
       "      <td>62.499082</td>\n",
       "      <td>46.667200</td>\n",
       "      <td>100.0</td>\n",
       "      <td>62.646348</td>\n",
       "      <td>47.310592</td>\n",
       "      <td>100.0</td>\n",
       "      <td>20.132872</td>\n",
       "      <td>1</td>\n",
       "    </tr>\n",
       "    <tr>\n",
       "      <th>136</th>\n",
       "      <td>76.984946</td>\n",
       "      <td>66.825787</td>\n",
       "      <td>500.0</td>\n",
       "      <td>67.812483</td>\n",
       "      <td>43.839595</td>\n",
       "      <td>100.0</td>\n",
       "      <td>67.840667</td>\n",
       "      <td>44.730173</td>\n",
       "      <td>100.0</td>\n",
       "      <td>17.808583</td>\n",
       "      <td>1</td>\n",
       "    </tr>\n",
       "    <tr>\n",
       "      <th>137</th>\n",
       "      <td>100.000000</td>\n",
       "      <td>0.000000</td>\n",
       "      <td>100.0</td>\n",
       "      <td>100.000000</td>\n",
       "      <td>0.000000</td>\n",
       "      <td>100.0</td>\n",
       "      <td>100.000000</td>\n",
       "      <td>0.000000</td>\n",
       "      <td>100.0</td>\n",
       "      <td>24.276005</td>\n",
       "      <td>1</td>\n",
       "    </tr>\n",
       "  </tbody>\n",
       "</table>\n",
       "<p>138 rows × 11 columns</p>\n",
       "</div>"
      ],
      "text/plain": [
       "      word_mean    word_std  word_max   pair_mean   pair_std  pair_max  \\\n",
       "0    161.530018  336.693975    2900.0    2.232143  18.188556     200.0   \n",
       "1    100.000000    0.000000     100.0  100.000000   0.000000     100.0   \n",
       "2      0.688976    7.169442     100.0    0.000000   0.000000       0.0   \n",
       "3    100.000000    0.000000     100.0  100.000000   0.000000     100.0   \n",
       "4     26.950113   77.768352     700.0    0.439560   6.622630     100.0   \n",
       "..          ...         ...       ...         ...        ...       ...   \n",
       "133  101.958779   13.002561     200.0   99.854015   3.820804     100.0   \n",
       "134  100.000000    0.000000     100.0  100.000000   0.000000     100.0   \n",
       "135   63.335615   45.480977     200.0   62.499082  46.667200     100.0   \n",
       "136   76.984946   66.825787     500.0   67.812483  43.839595     100.0   \n",
       "137  100.000000    0.000000     100.0  100.000000   0.000000     100.0   \n",
       "\n",
       "     trigram_mean  trigram_std  trigram_max  sent_match  plag  \n",
       "0        0.000000     0.000000          0.0   11.209377     0  \n",
       "1      100.000000     0.000000        100.0   20.120715     1  \n",
       "2        0.000000     0.000000          0.0   16.666667     0  \n",
       "3      100.000000     0.000000        100.0   19.567382     1  \n",
       "4        0.000000     0.000000          0.0    8.765949     0  \n",
       "..            ...          ...          ...         ...   ...  \n",
       "133     99.731544     5.177794        100.0   16.941537     1  \n",
       "134    100.000000     0.000000        100.0   17.295559     1  \n",
       "135     62.646348    47.310592        100.0   20.132872     1  \n",
       "136     67.840667    44.730173        100.0   17.808583     1  \n",
       "137    100.000000     0.000000        100.0   24.276005     1  \n",
       "\n",
       "[138 rows x 11 columns]"
      ]
     },
     "execution_count": 2,
     "metadata": {},
     "output_type": "execute_result"
    }
   ],
   "source": [
    "df = pd.read_csv('features.csv')\n",
    "df.head()\n",
    "df"
   ]
  },
  {
   "cell_type": "code",
   "execution_count": 3,
   "id": "6526fcbb",
   "metadata": {},
   "outputs": [],
   "source": [
    "from matplotlib import pyplot as plt\n",
    "%matplotlib inline"
   ]
  },
  {
   "cell_type": "code",
   "execution_count": 4,
   "id": "84076f19",
   "metadata": {},
   "outputs": [],
   "source": [
    "df_plag1 = df[df.plag==1]\n",
    "df_plag0 = df[df.plag==0]"
   ]
  },
  {
   "cell_type": "code",
   "execution_count": 5,
   "id": "adefb4c6",
   "metadata": {},
   "outputs": [
    {
     "data": {
      "text/html": [
       "<div>\n",
       "<style scoped>\n",
       "    .dataframe tbody tr th:only-of-type {\n",
       "        vertical-align: middle;\n",
       "    }\n",
       "\n",
       "    .dataframe tbody tr th {\n",
       "        vertical-align: top;\n",
       "    }\n",
       "\n",
       "    .dataframe thead th {\n",
       "        text-align: right;\n",
       "    }\n",
       "</style>\n",
       "<table border=\"1\" class=\"dataframe\">\n",
       "  <thead>\n",
       "    <tr style=\"text-align: right;\">\n",
       "      <th></th>\n",
       "      <th>word_mean</th>\n",
       "      <th>word_std</th>\n",
       "      <th>word_max</th>\n",
       "      <th>pair_mean</th>\n",
       "      <th>pair_std</th>\n",
       "      <th>pair_max</th>\n",
       "      <th>trigram_mean</th>\n",
       "      <th>trigram_std</th>\n",
       "      <th>trigram_max</th>\n",
       "      <th>sent_match</th>\n",
       "      <th>plag</th>\n",
       "    </tr>\n",
       "  </thead>\n",
       "  <tbody>\n",
       "    <tr>\n",
       "      <th>1</th>\n",
       "      <td>100.000000</td>\n",
       "      <td>0.000000</td>\n",
       "      <td>100.0</td>\n",
       "      <td>100.000000</td>\n",
       "      <td>0.000000</td>\n",
       "      <td>100.0</td>\n",
       "      <td>100.000000</td>\n",
       "      <td>0.000000</td>\n",
       "      <td>100.0</td>\n",
       "      <td>20.120715</td>\n",
       "      <td>1</td>\n",
       "    </tr>\n",
       "    <tr>\n",
       "      <th>3</th>\n",
       "      <td>100.000000</td>\n",
       "      <td>0.000000</td>\n",
       "      <td>100.0</td>\n",
       "      <td>100.000000</td>\n",
       "      <td>0.000000</td>\n",
       "      <td>100.0</td>\n",
       "      <td>100.000000</td>\n",
       "      <td>0.000000</td>\n",
       "      <td>100.0</td>\n",
       "      <td>19.567382</td>\n",
       "      <td>1</td>\n",
       "    </tr>\n",
       "    <tr>\n",
       "      <th>5</th>\n",
       "      <td>100.000000</td>\n",
       "      <td>0.000000</td>\n",
       "      <td>100.0</td>\n",
       "      <td>100.000000</td>\n",
       "      <td>0.000000</td>\n",
       "      <td>100.0</td>\n",
       "      <td>100.000000</td>\n",
       "      <td>0.000000</td>\n",
       "      <td>100.0</td>\n",
       "      <td>16.526978</td>\n",
       "      <td>1</td>\n",
       "    </tr>\n",
       "    <tr>\n",
       "      <th>8</th>\n",
       "      <td>100.000000</td>\n",
       "      <td>0.000000</td>\n",
       "      <td>100.0</td>\n",
       "      <td>100.000000</td>\n",
       "      <td>0.000000</td>\n",
       "      <td>100.0</td>\n",
       "      <td>100.000000</td>\n",
       "      <td>0.000000</td>\n",
       "      <td>100.0</td>\n",
       "      <td>12.693231</td>\n",
       "      <td>1</td>\n",
       "    </tr>\n",
       "    <tr>\n",
       "      <th>11</th>\n",
       "      <td>100.000000</td>\n",
       "      <td>0.000000</td>\n",
       "      <td>100.0</td>\n",
       "      <td>100.000000</td>\n",
       "      <td>0.000000</td>\n",
       "      <td>100.0</td>\n",
       "      <td>100.000000</td>\n",
       "      <td>0.000000</td>\n",
       "      <td>100.0</td>\n",
       "      <td>12.693231</td>\n",
       "      <td>1</td>\n",
       "    </tr>\n",
       "    <tr>\n",
       "      <th>...</th>\n",
       "      <td>...</td>\n",
       "      <td>...</td>\n",
       "      <td>...</td>\n",
       "      <td>...</td>\n",
       "      <td>...</td>\n",
       "      <td>...</td>\n",
       "      <td>...</td>\n",
       "      <td>...</td>\n",
       "      <td>...</td>\n",
       "      <td>...</td>\n",
       "      <td>...</td>\n",
       "    </tr>\n",
       "    <tr>\n",
       "      <th>133</th>\n",
       "      <td>101.958779</td>\n",
       "      <td>13.002561</td>\n",
       "      <td>200.0</td>\n",
       "      <td>99.854015</td>\n",
       "      <td>3.820804</td>\n",
       "      <td>100.0</td>\n",
       "      <td>99.731544</td>\n",
       "      <td>5.177794</td>\n",
       "      <td>100.0</td>\n",
       "      <td>16.941537</td>\n",
       "      <td>1</td>\n",
       "    </tr>\n",
       "    <tr>\n",
       "      <th>134</th>\n",
       "      <td>100.000000</td>\n",
       "      <td>0.000000</td>\n",
       "      <td>100.0</td>\n",
       "      <td>100.000000</td>\n",
       "      <td>0.000000</td>\n",
       "      <td>100.0</td>\n",
       "      <td>100.000000</td>\n",
       "      <td>0.000000</td>\n",
       "      <td>100.0</td>\n",
       "      <td>17.295559</td>\n",
       "      <td>1</td>\n",
       "    </tr>\n",
       "    <tr>\n",
       "      <th>135</th>\n",
       "      <td>63.335615</td>\n",
       "      <td>45.480977</td>\n",
       "      <td>200.0</td>\n",
       "      <td>62.499082</td>\n",
       "      <td>46.667200</td>\n",
       "      <td>100.0</td>\n",
       "      <td>62.646348</td>\n",
       "      <td>47.310592</td>\n",
       "      <td>100.0</td>\n",
       "      <td>20.132872</td>\n",
       "      <td>1</td>\n",
       "    </tr>\n",
       "    <tr>\n",
       "      <th>136</th>\n",
       "      <td>76.984946</td>\n",
       "      <td>66.825787</td>\n",
       "      <td>500.0</td>\n",
       "      <td>67.812483</td>\n",
       "      <td>43.839595</td>\n",
       "      <td>100.0</td>\n",
       "      <td>67.840667</td>\n",
       "      <td>44.730173</td>\n",
       "      <td>100.0</td>\n",
       "      <td>17.808583</td>\n",
       "      <td>1</td>\n",
       "    </tr>\n",
       "    <tr>\n",
       "      <th>137</th>\n",
       "      <td>100.000000</td>\n",
       "      <td>0.000000</td>\n",
       "      <td>100.0</td>\n",
       "      <td>100.000000</td>\n",
       "      <td>0.000000</td>\n",
       "      <td>100.0</td>\n",
       "      <td>100.000000</td>\n",
       "      <td>0.000000</td>\n",
       "      <td>100.0</td>\n",
       "      <td>24.276005</td>\n",
       "      <td>1</td>\n",
       "    </tr>\n",
       "  </tbody>\n",
       "</table>\n",
       "<p>76 rows × 11 columns</p>\n",
       "</div>"
      ],
      "text/plain": [
       "      word_mean   word_std  word_max   pair_mean   pair_std  pair_max  \\\n",
       "1    100.000000   0.000000     100.0  100.000000   0.000000     100.0   \n",
       "3    100.000000   0.000000     100.0  100.000000   0.000000     100.0   \n",
       "5    100.000000   0.000000     100.0  100.000000   0.000000     100.0   \n",
       "8    100.000000   0.000000     100.0  100.000000   0.000000     100.0   \n",
       "11   100.000000   0.000000     100.0  100.000000   0.000000     100.0   \n",
       "..          ...        ...       ...         ...        ...       ...   \n",
       "133  101.958779  13.002561     200.0   99.854015   3.820804     100.0   \n",
       "134  100.000000   0.000000     100.0  100.000000   0.000000     100.0   \n",
       "135   63.335615  45.480977     200.0   62.499082  46.667200     100.0   \n",
       "136   76.984946  66.825787     500.0   67.812483  43.839595     100.0   \n",
       "137  100.000000   0.000000     100.0  100.000000   0.000000     100.0   \n",
       "\n",
       "     trigram_mean  trigram_std  trigram_max  sent_match  plag  \n",
       "1      100.000000     0.000000        100.0   20.120715     1  \n",
       "3      100.000000     0.000000        100.0   19.567382     1  \n",
       "5      100.000000     0.000000        100.0   16.526978     1  \n",
       "8      100.000000     0.000000        100.0   12.693231     1  \n",
       "11     100.000000     0.000000        100.0   12.693231     1  \n",
       "..            ...          ...          ...         ...   ...  \n",
       "133     99.731544     5.177794        100.0   16.941537     1  \n",
       "134    100.000000     0.000000        100.0   17.295559     1  \n",
       "135     62.646348    47.310592        100.0   20.132872     1  \n",
       "136     67.840667    44.730173        100.0   17.808583     1  \n",
       "137    100.000000     0.000000        100.0   24.276005     1  \n",
       "\n",
       "[76 rows x 11 columns]"
      ]
     },
     "execution_count": 5,
     "metadata": {},
     "output_type": "execute_result"
    }
   ],
   "source": [
    "df_plag1"
   ]
  },
  {
   "cell_type": "code",
   "execution_count": 6,
   "id": "c5f21e4f",
   "metadata": {},
   "outputs": [
    {
     "data": {
      "text/plain": [
       "Text(0, 0.5, 'word_match_mean')"
      ]
     },
     "execution_count": 6,
     "metadata": {},
     "output_type": "execute_result"
    },
    {
     "data": {
      "image/png": "[encoded data removed]",
      "text/plain": [
       "<Figure size 432x288 with 1 Axes>"
      ]
     },
     "metadata": {
      "needs_background": "light"
     },
     "output_type": "display_data"
    }
   ],
   "source": [
    "plt.scatter(df_plag1['sent_match'], df_plag1['word_mean'], color=\"green\", marker=\"+\")\n",
    "plt.scatter(df_plag0['sent_match'], df_plag0['word_mean'], color=\"blue\", marker=\"+\")\n",
    "\n",
    "plt.xlabel('sent_match')\n",
    "plt.ylabel('word_match_mean')"
   ]
  },
  {
   "cell_type": "code",
   "execution_count": 7,
   "id": "8f9f4609",
   "metadata": {},
   "outputs": [
    {
     "data": {
      "text/plain": [
       "Text(0, 0.5, 'word_match_mean')"
      ]
     },
     "execution_count": 7,
     "metadata": {},
     "output_type": "execute_result"
    },
    {
     "data": {
      "image/png": "[encoded data removed]",
      "text/plain": [
       "<Figure size 432x288 with 1 Axes>"
      ]
     },
     "metadata": {
      "needs_background": "light"
     },
     "output_type": "display_data"
    }
   ],
   "source": [
    "plt.scatter(df_plag1['sent_match'], df_plag1['pair_mean'], color=\"green\", marker=\"+\")\n",
    "plt.scatter(df_plag0['sent_match'], df_plag0['pair_mean'], color=\"blue\", marker=\"+\")\n",
    "\n",
    "plt.xlabel('sent_match')\n",
    "plt.ylabel('word_match_mean')"
   ]
  },
  {
   "cell_type": "code",
   "execution_count": 8,
   "id": "28e48c9f",
   "metadata": {},
   "outputs": [
    {
     "data": {
      "text/plain": [
       "Text(0, 0.5, 'word_match_mean')"
      ]
     },
     "execution_count": 8,
     "metadata": {},
     "output_type": "execute_result"
    },
    {
     "data": {
      "image/png": "[encoded data removed]",
      "text/plain": [
       "<Figure size 432x288 with 1 Axes>"
      ]
     },
     "metadata": {
      "needs_background": "light"
     },
     "output_type": "display_data"
    }
   ],
   "source": [
    "plt.scatter(df_plag1['sent_match'], df_plag1['trigram_mean'], color=\"green\", marker=\"+\")\n",
    "plt.scatter(df_plag0['sent_match'], df_plag0['trigram_mean'], color=\"blue\", marker=\"+\")\n",
    "\n",
    "plt.xlabel('sent_match')\n",
    "plt.ylabel('word_match_mean')"
   ]
  },
  {
   "cell_type": "code",
   "execution_count": 9,
   "id": "cdf68a6e",
   "metadata": {},
   "outputs": [],
   "source": [
    "from sklearn.model_selection import train_test_split"
   ]
  },
  {
   "cell_type": "code",
   "execution_count": 10,
   "id": "d84920ea",
   "metadata": {},
   "outputs": [
    {
     "data": {
      "text/html": [
       "<div>\n",
       "<style scoped>\n",
       "    .dataframe tbody tr th:only-of-type {\n",
       "        vertical-align: middle;\n",
       "    }\n",
       "\n",
       "    .dataframe tbody tr th {\n",
       "        vertical-align: top;\n",
       "    }\n",
       "\n",
       "    .dataframe thead th {\n",
       "        text-align: right;\n",
       "    }\n",
       "</style>\n",
       "<table border=\"1\" class=\"dataframe\">\n",
       "  <thead>\n",
       "    <tr style=\"text-align: right;\">\n",
       "      <th></th>\n",
       "      <th>word_mean</th>\n",
       "      <th>word_std</th>\n",
       "      <th>word_max</th>\n",
       "      <th>pair_mean</th>\n",
       "      <th>pair_std</th>\n",
       "      <th>pair_max</th>\n",
       "      <th>trigram_mean</th>\n",
       "      <th>trigram_std</th>\n",
       "      <th>trigram_max</th>\n",
       "      <th>sent_match</th>\n",
       "    </tr>\n",
       "  </thead>\n",
       "  <tbody>\n",
       "    <tr>\n",
       "      <th>0</th>\n",
       "      <td>161.530018</td>\n",
       "      <td>336.693975</td>\n",
       "      <td>2900.0</td>\n",
       "      <td>2.232143</td>\n",
       "      <td>18.188556</td>\n",
       "      <td>200.0</td>\n",
       "      <td>0.0</td>\n",
       "      <td>0.0</td>\n",
       "      <td>0.0</td>\n",
       "      <td>11.209377</td>\n",
       "    </tr>\n",
       "    <tr>\n",
       "      <th>1</th>\n",
       "      <td>100.000000</td>\n",
       "      <td>0.000000</td>\n",
       "      <td>100.0</td>\n",
       "      <td>100.000000</td>\n",
       "      <td>0.000000</td>\n",
       "      <td>100.0</td>\n",
       "      <td>100.0</td>\n",
       "      <td>0.0</td>\n",
       "      <td>100.0</td>\n",
       "      <td>20.120715</td>\n",
       "    </tr>\n",
       "    <tr>\n",
       "      <th>2</th>\n",
       "      <td>0.688976</td>\n",
       "      <td>7.169442</td>\n",
       "      <td>100.0</td>\n",
       "      <td>0.000000</td>\n",
       "      <td>0.000000</td>\n",
       "      <td>0.0</td>\n",
       "      <td>0.0</td>\n",
       "      <td>0.0</td>\n",
       "      <td>0.0</td>\n",
       "      <td>16.666667</td>\n",
       "    </tr>\n",
       "    <tr>\n",
       "      <th>3</th>\n",
       "      <td>100.000000</td>\n",
       "      <td>0.000000</td>\n",
       "      <td>100.0</td>\n",
       "      <td>100.000000</td>\n",
       "      <td>0.000000</td>\n",
       "      <td>100.0</td>\n",
       "      <td>100.0</td>\n",
       "      <td>0.0</td>\n",
       "      <td>100.0</td>\n",
       "      <td>19.567382</td>\n",
       "    </tr>\n",
       "    <tr>\n",
       "      <th>4</th>\n",
       "      <td>26.950113</td>\n",
       "      <td>77.768352</td>\n",
       "      <td>700.0</td>\n",
       "      <td>0.439560</td>\n",
       "      <td>6.622630</td>\n",
       "      <td>100.0</td>\n",
       "      <td>0.0</td>\n",
       "      <td>0.0</td>\n",
       "      <td>0.0</td>\n",
       "      <td>8.765949</td>\n",
       "    </tr>\n",
       "  </tbody>\n",
       "</table>\n",
       "</div>"
      ],
      "text/plain": [
       "    word_mean    word_std  word_max   pair_mean   pair_std  pair_max  \\\n",
       "0  161.530018  336.693975    2900.0    2.232143  18.188556     200.0   \n",
       "1  100.000000    0.000000     100.0  100.000000   0.000000     100.0   \n",
       "2    0.688976    7.169442     100.0    0.000000   0.000000       0.0   \n",
       "3  100.000000    0.000000     100.0  100.000000   0.000000     100.0   \n",
       "4   26.950113   77.768352     700.0    0.439560   6.622630     100.0   \n",
       "\n",
       "   trigram_mean  trigram_std  trigram_max  sent_match  \n",
       "0           0.0          0.0          0.0   11.209377  \n",
       "1         100.0          0.0        100.0   20.120715  \n",
       "2           0.0          0.0          0.0   16.666667  \n",
       "3         100.0          0.0        100.0   19.567382  \n",
       "4           0.0          0.0          0.0    8.765949  "
      ]
     },
     "execution_count": 10,
     "metadata": {},
     "output_type": "execute_result"
    }
   ],
   "source": [
    "X = df.drop(['plag'], axis='columns')\n",
    "X.head()"
   ]
  },
  {
   "cell_type": "code",
   "execution_count": 11,
   "id": "80b0eb16",
   "metadata": {},
   "outputs": [
    {
     "data": {
      "text/plain": [
       "0    0\n",
       "1    1\n",
       "2    0\n",
       "3    1\n",
       "4    0\n",
       "Name: plag, dtype: int64"
      ]
     },
     "execution_count": 11,
     "metadata": {},
     "output_type": "execute_result"
    }
   ],
   "source": [
    "Y = df.plag\n",
    "Y.head()"
   ]
  },
  {
   "cell_type": "code",
   "execution_count": 12,
   "id": "92913c76",
   "metadata": {},
   "outputs": [],
   "source": [
    "X_train, X_test, Y_train, Y_test = train_test_split(X, Y, test_size=0.2)"
   ]
  },
  {
   "cell_type": "code",
   "execution_count": 13,
   "id": "4872f68b",
   "metadata": {},
   "outputs": [
    {
     "data": {
      "text/plain": [
       "(110, 28)"
      ]
     },
     "execution_count": 13,
     "metadata": {},
     "output_type": "execute_result"
    }
   ],
   "source": [
    "len(X_train), len(X_test)"
   ]
  },
  {
   "cell_type": "code",
   "execution_count": 14,
   "id": "979557d3",
   "metadata": {},
   "outputs": [
    {
     "data": {
      "text/plain": [
       "SVC(gamma=1)"
      ]
     },
     "execution_count": 14,
     "metadata": {},
     "output_type": "execute_result"
    }
   ],
   "source": [
    "from sklearn.svm import SVC\n",
    "model = SVC(gamma=1)\n",
    "model.fit(X_train, Y_train)"
   ]
  },
  {
   "cell_type": "code",
   "execution_count": 15,
   "id": "99d34017",
   "metadata": {},
   "outputs": [
    {
     "data": {
      "text/plain": [
       "0.8928571428571429"
      ]
     },
     "execution_count": 15,
     "metadata": {},
     "output_type": "execute_result"
    }
   ],
   "source": [
    "model.score(X_test, Y_test)"
   ]
  },
  {
   "cell_type": "code",
   "execution_count": 16,
   "id": "04f5a580",
   "metadata": {},
   "outputs": [],
   "source": [
    "import pickle"
   ]
  },
  {
   "cell_type": "code",
   "execution_count": 17,
   "id": "2e433d22",
   "metadata": {},
   "outputs": [],
   "source": [
    "with open('model_plag', 'wb') as f:\n",
    "    pickle.dump(model, f)"
   ]
  },
  {
   "cell_type": "code",
   "execution_count": 18,
   "id": "3f336cad",
   "metadata": {},
   "outputs": [],
   "source": [
    "with open('model_plag', 'rb') as f:\n",
    "    plag_model = pickle.load(f)"
   ]
  },
  {
   "cell_type": "code",
   "execution_count": 22,
   "id": "96d8849a",
   "metadata": {},
   "outputs": [
    {
     "data": {
      "text/plain": [
       "array([1])"
      ]
     },
     "execution_count": 22,
     "metadata": {},
     "output_type": "execute_result"
    }
   ],
   "source": [
    "a = plag_model.predict([[25.34064035011005, 59.76554265286301, 600.0, 18.992303992303995, 38.88497197342926, 100.0, 18.807947019867548, 39.10346664772662, 100.0, 18.525268964609385]])\n",
    "\n",
    "a"
   ]
  },
  {
   "cell_type": "code",
   "execution_count": 23,
   "id": "ca33f7ed",
   "metadata": {},
   "outputs": [],
   "source": [
    "# X_test.iloc[10]"
   ]
  },
  {
   "cell_type": "code",
   "execution_count": 24,
   "id": "ed41e547",
   "metadata": {},
   "outputs": [
    {
     "data": {
      "text/plain": [
       "60     1\n",
       "4      0\n",
       "67     0\n",
       "23     0\n",
       "39     0\n",
       "91     0\n",
       "79     0\n",
       "45     0\n",
       "128    1\n",
       "56     0\n",
       "34     0\n",
       "137    1\n",
       "21     0\n",
       "46     0\n",
       "43     1\n",
       "22     0\n",
       "133    1\n",
       "112    1\n",
       "84     1\n",
       "68     1\n",
       "14     1\n",
       "42     0\n",
       "64     0\n",
       "35     1\n",
       "96     0\n",
       "10     0\n",
       "15     0\n",
       "57     1\n",
       "Name: plag, dtype: int64"
      ]
     },
     "execution_count": 24,
     "metadata": {},
     "output_type": "execute_result"
    }
   ],
   "source": [
    "Y_test"
   ]
  },
  {
   "cell_type": "code",
   "execution_count": 25,
   "id": "1c3ba2a4",
   "metadata": {},
   "outputs": [
    {
     "data": {
      "text/plain": [
       "0.8928571428571429"
      ]
     },
     "execution_count": 25,
     "metadata": {},
     "output_type": "execute_result"
    }
   ],
   "source": [
    "plag_model.score(X_test, Y_test)"
   ]
  },
  {
   "cell_type": "code",
   "execution_count": null,
   "id": "2fd6d2f0",
   "metadata": {},
   "outputs": [],
   "source": []
  }
 ],
 "metadata": {
  "kernelspec": {
   "display_name": "Python 3",
   "language": "python",
   "name": "python3"
  },
  "language_info": {
   "codemirror_mode": {
    "name": "ipython",
    "version": 3
   },
   "file_extension": ".py",
   "mimetype": "text/x-python",
   "name": "python",
   "nbconvert_exporter": "python",
   "pygments_lexer": "ipython3",
   "version": "3.8.8"
  }
 },
 "nbformat": 4,
 "nbformat_minor": 5
}
