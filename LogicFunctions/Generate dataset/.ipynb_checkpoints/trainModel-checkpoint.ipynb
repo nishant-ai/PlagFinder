{
 "cells": [
  {
   "cell_type": "code",
   "execution_count": 1,
   "id": "9a59de87",
   "metadata": {},
   "outputs": [],
   "source": [
    "import pandas as pd\n",
    "import numpy as np\n",
    "from matplotlib import pyplot as plt\n",
    "%matplotlib inline"
   ]
  },
  {
   "cell_type": "code",
   "execution_count": 6,
   "id": "bd53d620",
   "metadata": {},
   "outputs": [
    {
     "data": {
      "text/html": [
       "<div>\n",
       "<style scoped>\n",
       "    .dataframe tbody tr th:only-of-type {\n",
       "        vertical-align: middle;\n",
       "    }\n",
       "\n",
       "    .dataframe tbody tr th {\n",
       "        vertical-align: top;\n",
       "    }\n",
       "\n",
       "    .dataframe thead th {\n",
       "        text-align: right;\n",
       "    }\n",
       "</style>\n",
       "<table border=\"1\" class=\"dataframe\">\n",
       "  <thead>\n",
       "    <tr style=\"text-align: right;\">\n",
       "      <th></th>\n",
       "      <th>word_mean</th>\n",
       "      <th>word_std</th>\n",
       "      <th>word_max</th>\n",
       "      <th>pair_mean</th>\n",
       "      <th>pair_std</th>\n",
       "      <th>pair_max</th>\n",
       "      <th>trigram_mean</th>\n",
       "      <th>trigram_std</th>\n",
       "      <th>trigram_max</th>\n",
       "      <th>sent_match</th>\n",
       "      <th>plag</th>\n",
       "    </tr>\n",
       "  </thead>\n",
       "  <tbody>\n",
       "    <tr>\n",
       "      <th>0</th>\n",
       "      <td>12.813283</td>\n",
       "      <td>42.558709</td>\n",
       "      <td>300.0</td>\n",
       "      <td>1.388889</td>\n",
       "      <td>13.402405</td>\n",
       "      <td>150.0</td>\n",
       "      <td>0.0</td>\n",
       "      <td>0.0</td>\n",
       "      <td>0.0</td>\n",
       "      <td>11.181364</td>\n",
       "      <td>0</td>\n",
       "    </tr>\n",
       "    <tr>\n",
       "      <th>1</th>\n",
       "      <td>8.521303</td>\n",
       "      <td>31.406865</td>\n",
       "      <td>200.0</td>\n",
       "      <td>0.000000</td>\n",
       "      <td>0.000000</td>\n",
       "      <td>0.0</td>\n",
       "      <td>0.0</td>\n",
       "      <td>0.0</td>\n",
       "      <td>0.0</td>\n",
       "      <td>16.959527</td>\n",
       "      <td>1</td>\n",
       "    </tr>\n",
       "    <tr>\n",
       "      <th>2</th>\n",
       "      <td>12.155388</td>\n",
       "      <td>41.496005</td>\n",
       "      <td>300.0</td>\n",
       "      <td>0.000000</td>\n",
       "      <td>0.000000</td>\n",
       "      <td>0.0</td>\n",
       "      <td>0.0</td>\n",
       "      <td>0.0</td>\n",
       "      <td>0.0</td>\n",
       "      <td>17.161103</td>\n",
       "      <td>0</td>\n",
       "    </tr>\n",
       "    <tr>\n",
       "      <th>3</th>\n",
       "      <td>6.390977</td>\n",
       "      <td>31.630881</td>\n",
       "      <td>300.0</td>\n",
       "      <td>0.000000</td>\n",
       "      <td>0.000000</td>\n",
       "      <td>0.0</td>\n",
       "      <td>0.0</td>\n",
       "      <td>0.0</td>\n",
       "      <td>0.0</td>\n",
       "      <td>11.516849</td>\n",
       "      <td>1</td>\n",
       "    </tr>\n",
       "    <tr>\n",
       "      <th>4</th>\n",
       "      <td>10.902256</td>\n",
       "      <td>45.783725</td>\n",
       "      <td>400.0</td>\n",
       "      <td>0.000000</td>\n",
       "      <td>0.000000</td>\n",
       "      <td>0.0</td>\n",
       "      <td>0.0</td>\n",
       "      <td>0.0</td>\n",
       "      <td>0.0</td>\n",
       "      <td>10.578612</td>\n",
       "      <td>0</td>\n",
       "    </tr>\n",
       "  </tbody>\n",
       "</table>\n",
       "</div>"
      ],
      "text/plain": [
       "   word_mean   word_std  word_max  pair_mean   pair_std  pair_max  \\\n",
       "0  12.813283  42.558709     300.0   1.388889  13.402405     150.0   \n",
       "1   8.521303  31.406865     200.0   0.000000   0.000000       0.0   \n",
       "2  12.155388  41.496005     300.0   0.000000   0.000000       0.0   \n",
       "3   6.390977  31.630881     300.0   0.000000   0.000000       0.0   \n",
       "4  10.902256  45.783725     400.0   0.000000   0.000000       0.0   \n",
       "\n",
       "   trigram_mean  trigram_std  trigram_max  sent_match  plag  \n",
       "0           0.0          0.0          0.0   11.181364     0  \n",
       "1           0.0          0.0          0.0   16.959527     1  \n",
       "2           0.0          0.0          0.0   17.161103     0  \n",
       "3           0.0          0.0          0.0   11.516849     1  \n",
       "4           0.0          0.0          0.0   10.578612     0  "
      ]
     },
     "execution_count": 6,
     "metadata": {},
     "output_type": "execute_result"
    }
   ],
   "source": [
    "df = pd.read_csv('crop.csv')\n",
    "df.head()"
   ]
  },
  {
   "cell_type": "code",
   "execution_count": 7,
   "id": "59f08cc3",
   "metadata": {},
   "outputs": [],
   "source": [
    "df_plag1 = df[df.plag==1]\n",
    "df_plag0 = df[df.plag==0]"
   ]
  },
  {
   "cell_type": "code",
   "execution_count": 9,
   "id": "1f1471be",
   "metadata": {},
   "outputs": [
    {
     "data": {
      "text/html": [
       "<div>\n",
       "<style scoped>\n",
       "    .dataframe tbody tr th:only-of-type {\n",
       "        vertical-align: middle;\n",
       "    }\n",
       "\n",
       "    .dataframe tbody tr th {\n",
       "        vertical-align: top;\n",
       "    }\n",
       "\n",
       "    .dataframe thead th {\n",
       "        text-align: right;\n",
       "    }\n",
       "</style>\n",
       "<table border=\"1\" class=\"dataframe\">\n",
       "  <thead>\n",
       "    <tr style=\"text-align: right;\">\n",
       "      <th></th>\n",
       "      <th>word_mean</th>\n",
       "      <th>word_std</th>\n",
       "      <th>word_max</th>\n",
       "      <th>pair_mean</th>\n",
       "      <th>pair_std</th>\n",
       "      <th>pair_max</th>\n",
       "      <th>trigram_mean</th>\n",
       "      <th>trigram_std</th>\n",
       "      <th>trigram_max</th>\n",
       "      <th>sent_match</th>\n",
       "      <th>plag</th>\n",
       "    </tr>\n",
       "  </thead>\n",
       "  <tbody>\n",
       "    <tr>\n",
       "      <th>1</th>\n",
       "      <td>8.521303</td>\n",
       "      <td>31.406865</td>\n",
       "      <td>200.0</td>\n",
       "      <td>0.0</td>\n",
       "      <td>0.0</td>\n",
       "      <td>0.0</td>\n",
       "      <td>0.0</td>\n",
       "      <td>0.0</td>\n",
       "      <td>0.0</td>\n",
       "      <td>16.959527</td>\n",
       "      <td>1</td>\n",
       "    </tr>\n",
       "    <tr>\n",
       "      <th>3</th>\n",
       "      <td>6.390977</td>\n",
       "      <td>31.630881</td>\n",
       "      <td>300.0</td>\n",
       "      <td>0.0</td>\n",
       "      <td>0.0</td>\n",
       "      <td>0.0</td>\n",
       "      <td>0.0</td>\n",
       "      <td>0.0</td>\n",
       "      <td>0.0</td>\n",
       "      <td>11.516849</td>\n",
       "      <td>1</td>\n",
       "    </tr>\n",
       "    <tr>\n",
       "      <th>7</th>\n",
       "      <td>9.774436</td>\n",
       "      <td>31.053867</td>\n",
       "      <td>200.0</td>\n",
       "      <td>0.0</td>\n",
       "      <td>0.0</td>\n",
       "      <td>0.0</td>\n",
       "      <td>0.0</td>\n",
       "      <td>0.0</td>\n",
       "      <td>0.0</td>\n",
       "      <td>9.007226</td>\n",
       "      <td>1</td>\n",
       "    </tr>\n",
       "  </tbody>\n",
       "</table>\n",
       "</div>"
      ],
      "text/plain": [
       "   word_mean   word_std  word_max  pair_mean  pair_std  pair_max  \\\n",
       "1   8.521303  31.406865     200.0        0.0       0.0       0.0   \n",
       "3   6.390977  31.630881     300.0        0.0       0.0       0.0   \n",
       "7   9.774436  31.053867     200.0        0.0       0.0       0.0   \n",
       "\n",
       "   trigram_mean  trigram_std  trigram_max  sent_match  plag  \n",
       "1           0.0          0.0          0.0   16.959527     1  \n",
       "3           0.0          0.0          0.0   11.516849     1  \n",
       "7           0.0          0.0          0.0    9.007226     1  "
      ]
     },
     "execution_count": 9,
     "metadata": {},
     "output_type": "execute_result"
    }
   ],
   "source": [
    "df_plag1.head(3)"
   ]
  },
  {
   "cell_type": "code",
   "execution_count": 10,
   "id": "ca34c929",
   "metadata": {},
   "outputs": [
    {
     "data": {
      "text/plain": [
       "Text(0, 0.5, 'word_match_mean')"
      ]
     },
     "execution_count": 10,
     "metadata": {},
     "output_type": "execute_result"
    },
    {
     "data": {
      "image/png": "[encoded data removed]",
      "text/plain": [
       "<Figure size 432x288 with 1 Axes>"
      ]
     },
     "metadata": {
      "needs_background": "light"
     },
     "output_type": "display_data"
    }
   ],
   "source": [
    "plt.scatter(df_plag1['sent_match'], df_plag1['word_mean'], color=\"green\", marker=\"+\")\n",
    "plt.scatter(df_plag0['sent_match'], df_plag0['word_mean'], color=\"blue\", marker=\"+\")\n",
    "\n",
    "plt.xlabel('sent_match')\n",
    "plt.ylabel('word_match_mean')"
   ]
  },
  {
   "cell_type": "code",
   "execution_count": 11,
   "id": "8365fc32",
   "metadata": {},
   "outputs": [
    {
     "data": {
      "text/plain": [
       "Text(0, 0.5, 'word_match_mean')"
      ]
     },
     "execution_count": 11,
     "metadata": {},
     "output_type": "execute_result"
    },
    {
     "data": {
      "image/png": "[encoded data removed]",
      "text/plain": [
       "<Figure size 432x288 with 1 Axes>"
      ]
     },
     "metadata": {
      "needs_background": "light"
     },
     "output_type": "display_data"
    }
   ],
   "source": [
    "plt.scatter(df_plag1['sent_match'], df_plag1['pair_mean'], color=\"green\", marker=\"+\")\n",
    "plt.scatter(df_plag0['sent_match'], df_plag0['pair_mean'], color=\"blue\", marker=\"+\")\n",
    "\n",
    "plt.xlabel('sent_match')\n",
    "plt.ylabel('word_match_mean')"
   ]
  },
  {
   "cell_type": "code",
   "execution_count": 12,
   "id": "af223157",
   "metadata": {},
   "outputs": [
    {
     "data": {
      "text/plain": [
       "Text(0, 0.5, 'word_match_mean')"
      ]
     },
     "execution_count": 12,
     "metadata": {},
     "output_type": "execute_result"
    },
    {
     "data": {
      "image/png": "[encoded data removed]",
      "text/plain": [
       "<Figure size 432x288 with 1 Axes>"
      ]
     },
     "metadata": {
      "needs_background": "light"
     },
     "output_type": "display_data"
    }
   ],
   "source": [
    "plt.scatter(df_plag1['sent_match'], df_plag1['trigram_mean'], color=\"green\", marker=\"+\")\n",
    "plt.scatter(df_plag0['sent_match'], df_plag0['trigram_mean'], color=\"blue\", marker=\"+\")\n",
    "\n",
    "plt.xlabel('sent_match')\n",
    "plt.ylabel('word_match_mean')"
   ]
  },
  {
   "cell_type": "code",
   "execution_count": 13,
   "id": "120f7625",
   "metadata": {},
   "outputs": [],
   "source": [
    "from sklearn.model_selection import train_test_split"
   ]
  },
  {
   "cell_type": "code",
   "execution_count": 14,
   "id": "7cfb7289",
   "metadata": {},
   "outputs": [
    {
     "data": {
      "text/html": [
       "<div>\n",
       "<style scoped>\n",
       "    .dataframe tbody tr th:only-of-type {\n",
       "        vertical-align: middle;\n",
       "    }\n",
       "\n",
       "    .dataframe tbody tr th {\n",
       "        vertical-align: top;\n",
       "    }\n",
       "\n",
       "    .dataframe thead th {\n",
       "        text-align: right;\n",
       "    }\n",
       "</style>\n",
       "<table border=\"1\" class=\"dataframe\">\n",
       "  <thead>\n",
       "    <tr style=\"text-align: right;\">\n",
       "      <th></th>\n",
       "      <th>word_mean</th>\n",
       "      <th>word_std</th>\n",
       "      <th>word_max</th>\n",
       "      <th>pair_mean</th>\n",
       "      <th>pair_std</th>\n",
       "      <th>pair_max</th>\n",
       "      <th>trigram_mean</th>\n",
       "      <th>trigram_std</th>\n",
       "      <th>trigram_max</th>\n",
       "      <th>sent_match</th>\n",
       "    </tr>\n",
       "  </thead>\n",
       "  <tbody>\n",
       "    <tr>\n",
       "      <th>0</th>\n",
       "      <td>12.813283</td>\n",
       "      <td>42.558709</td>\n",
       "      <td>300.0</td>\n",
       "      <td>1.388889</td>\n",
       "      <td>13.402405</td>\n",
       "      <td>150.0</td>\n",
       "      <td>0.0</td>\n",
       "      <td>0.0</td>\n",
       "      <td>0.0</td>\n",
       "      <td>11.181364</td>\n",
       "    </tr>\n",
       "    <tr>\n",
       "      <th>1</th>\n",
       "      <td>8.521303</td>\n",
       "      <td>31.406865</td>\n",
       "      <td>200.0</td>\n",
       "      <td>0.000000</td>\n",
       "      <td>0.000000</td>\n",
       "      <td>0.0</td>\n",
       "      <td>0.0</td>\n",
       "      <td>0.0</td>\n",
       "      <td>0.0</td>\n",
       "      <td>16.959527</td>\n",
       "    </tr>\n",
       "    <tr>\n",
       "      <th>2</th>\n",
       "      <td>12.155388</td>\n",
       "      <td>41.496005</td>\n",
       "      <td>300.0</td>\n",
       "      <td>0.000000</td>\n",
       "      <td>0.000000</td>\n",
       "      <td>0.0</td>\n",
       "      <td>0.0</td>\n",
       "      <td>0.0</td>\n",
       "      <td>0.0</td>\n",
       "      <td>17.161103</td>\n",
       "    </tr>\n",
       "    <tr>\n",
       "      <th>3</th>\n",
       "      <td>6.390977</td>\n",
       "      <td>31.630881</td>\n",
       "      <td>300.0</td>\n",
       "      <td>0.000000</td>\n",
       "      <td>0.000000</td>\n",
       "      <td>0.0</td>\n",
       "      <td>0.0</td>\n",
       "      <td>0.0</td>\n",
       "      <td>0.0</td>\n",
       "      <td>11.516849</td>\n",
       "    </tr>\n",
       "    <tr>\n",
       "      <th>4</th>\n",
       "      <td>10.902256</td>\n",
       "      <td>45.783725</td>\n",
       "      <td>400.0</td>\n",
       "      <td>0.000000</td>\n",
       "      <td>0.000000</td>\n",
       "      <td>0.0</td>\n",
       "      <td>0.0</td>\n",
       "      <td>0.0</td>\n",
       "      <td>0.0</td>\n",
       "      <td>10.578612</td>\n",
       "    </tr>\n",
       "  </tbody>\n",
       "</table>\n",
       "</div>"
      ],
      "text/plain": [
       "   word_mean   word_std  word_max  pair_mean   pair_std  pair_max  \\\n",
       "0  12.813283  42.558709     300.0   1.388889  13.402405     150.0   \n",
       "1   8.521303  31.406865     200.0   0.000000   0.000000       0.0   \n",
       "2  12.155388  41.496005     300.0   0.000000   0.000000       0.0   \n",
       "3   6.390977  31.630881     300.0   0.000000   0.000000       0.0   \n",
       "4  10.902256  45.783725     400.0   0.000000   0.000000       0.0   \n",
       "\n",
       "   trigram_mean  trigram_std  trigram_max  sent_match  \n",
       "0           0.0          0.0          0.0   11.181364  \n",
       "1           0.0          0.0          0.0   16.959527  \n",
       "2           0.0          0.0          0.0   17.161103  \n",
       "3           0.0          0.0          0.0   11.516849  \n",
       "4           0.0          0.0          0.0   10.578612  "
      ]
     },
     "execution_count": 14,
     "metadata": {},
     "output_type": "execute_result"
    }
   ],
   "source": [
    "X = df.drop(['plag'], axis='columns')\n",
    "X.head()"
   ]
  },
  {
   "cell_type": "code",
   "execution_count": 15,
   "id": "e2134ee0",
   "metadata": {},
   "outputs": [
    {
     "data": {
      "text/plain": [
       "0    0\n",
       "1    1\n",
       "2    0\n",
       "3    1\n",
       "4    0\n",
       "Name: plag, dtype: int64"
      ]
     },
     "execution_count": 15,
     "metadata": {},
     "output_type": "execute_result"
    }
   ],
   "source": [
    "Y = df.plag\n",
    "Y.head()"
   ]
  },
  {
   "cell_type": "code",
   "execution_count": 16,
   "id": "4e21c27d",
   "metadata": {},
   "outputs": [],
   "source": [
    "X_train, X_test, Y_train, Y_test = train_test_split(X, Y, test_size=0.2)"
   ]
  },
  {
   "cell_type": "code",
   "execution_count": 17,
   "id": "68bbbc85",
   "metadata": {},
   "outputs": [
    {
     "data": {
      "text/plain": [
       "(76, 19)"
      ]
     },
     "execution_count": 17,
     "metadata": {},
     "output_type": "execute_result"
    }
   ],
   "source": [
    "len(X_train), len(X_test)"
   ]
  },
  {
   "cell_type": "code",
   "execution_count": 34,
   "id": "421d120b",
   "metadata": {},
   "outputs": [
    {
     "data": {
      "text/plain": [
       "SVC()"
      ]
     },
     "execution_count": 34,
     "metadata": {},
     "output_type": "execute_result"
    }
   ],
   "source": [
    "from sklearn.svm import SVC\n",
    "model = SVC()\n",
    "model.fit(X_train, Y_train)"
   ]
  },
  {
   "cell_type": "code",
   "execution_count": 35,
   "id": "566d0289",
   "metadata": {},
   "outputs": [
    {
     "data": {
      "text/plain": [
       "0.5789473684210527"
      ]
     },
     "execution_count": 35,
     "metadata": {},
     "output_type": "execute_result"
    }
   ],
   "source": [
    "model.score(X_test, Y_test)"
   ]
  },
  {
   "cell_type": "code",
   "execution_count": 36,
   "id": "d73d4e9e",
   "metadata": {},
   "outputs": [],
   "source": [
    "import pickle"
   ]
  },
  {
   "cell_type": "code",
   "execution_count": 37,
   "id": "78e1bc0c",
   "metadata": {},
   "outputs": [],
   "source": [
    "with open('model_plag', 'wb') as f:\n",
    "    pickle.dump(model, f)"
   ]
  },
  {
   "cell_type": "code",
   "execution_count": 38,
   "id": "358f09b6",
   "metadata": {},
   "outputs": [],
   "source": [
    "with open('model_plag', 'rb') as f:\n",
    "    plag_model = pickle.load(f)"
   ]
  },
  {
   "cell_type": "code",
   "execution_count": 39,
   "id": "e91aadf9",
   "metadata": {},
   "outputs": [
    {
     "data": {
      "text/plain": [
       "array([0])"
      ]
     },
     "execution_count": 39,
     "metadata": {},
     "output_type": "execute_result"
    }
   ],
   "source": [
    "a = plag_model.predict([[25.34064035011005, 59.76554265286301, 600.0, 18.992303992303995, 38.88497197342926, 100.0, 18.807947019867548, 39.10346664772662, 100.0, 18.525268964609385]])\n",
    "\n",
    "a"
   ]
  },
  {
   "cell_type": "code",
   "execution_count": 40,
   "id": "15831cc5",
   "metadata": {},
   "outputs": [
    {
     "data": {
      "text/plain": [
       "0     0\n",
       "18    0\n",
       "31    0\n",
       "15    1\n",
       "79    1\n",
       "81    0\n",
       "62    0\n",
       "44    0\n",
       "24    1\n",
       "68    0\n",
       "89    1\n",
       "17    1\n",
       "14    0\n",
       "83    1\n",
       "6     0\n",
       "86    1\n",
       "36    1\n",
       "63    1\n",
       "2     0\n",
       "Name: plag, dtype: int64"
      ]
     },
     "execution_count": 40,
     "metadata": {},
     "output_type": "execute_result"
    }
   ],
   "source": [
    "Y_test"
   ]
  },
  {
   "cell_type": "code",
   "execution_count": 41,
   "id": "5ac97690",
   "metadata": {},
   "outputs": [
    {
     "data": {
      "text/plain": [
       "0.5789473684210527"
      ]
     },
     "execution_count": 41,
     "metadata": {},
     "output_type": "execute_result"
    }
   ],
   "source": [
    "plag_model.score(X_test, Y_test)"
   ]
  },
  {
   "cell_type": "code",
   "execution_count": null,
   "id": "b44dd6ca",
   "metadata": {},
   "outputs": [],
   "source": []
  }
 ],
 "metadata": {
  "kernelspec": {
   "display_name": "Python 3",
   "language": "python",
   "name": "python3"
  },
  "language_info": {
   "codemirror_mode": {
    "name": "ipython",
    "version": 3
   },
   "file_extension": ".py",
   "mimetype": "text/x-python",
   "name": "python",
   "nbconvert_exporter": "python",
   "pygments_lexer": "ipython3",
   "version": "3.8.8"
  }
 },
 "nbformat": 4,
 "nbformat_minor": 5
}
